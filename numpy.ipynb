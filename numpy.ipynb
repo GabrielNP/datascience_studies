{
  "nbformat": 4,
  "nbformat_minor": 0,
  "metadata": {
    "colab": {
      "name": "numpy.ipynb",
      "provenance": [],
      "collapsed_sections": []
    },
    "kernelspec": {
      "name": "python3",
      "display_name": "Python 3"
    }
  },
  "cells": [
    {
      "cell_type": "markdown",
      "metadata": {
        "id": "dMlTAbN5tqiJ"
      },
      "source": [
        "Colab made for studies about numpy Python library.\n",
        "\n",
        "**Reference:** https://numpy.org/"
      ]
    },
    {
      "cell_type": "code",
      "metadata": {
        "id": "w3uH0Ildtk_t"
      },
      "source": [
        "!pip install matplotlib\n",
        "!pip install numpy"
      ],
      "execution_count": null,
      "outputs": []
    },
    {
      "cell_type": "code",
      "metadata": {
        "id": "OxlcUf4etz0J"
      },
      "source": [
        "import numpy as np"
      ],
      "execution_count": 3,
      "outputs": []
    },
    {
      "cell_type": "markdown",
      "metadata": {
        "id": "k4uI-7uXGx9g"
      },
      "source": [
        "# Numpy quickstart"
      ]
    },
    {
      "cell_type": "markdown",
      "metadata": {
        "id": "7ShsP9KAugz1"
      },
      "source": [
        "## The Basics"
      ]
    },
    {
      "cell_type": "code",
      "metadata": {
        "id": "VIAeZPg1t3Rg"
      },
      "source": [
        "array_1 = np.arange(15).reshape(5, 3)\n",
        "print('Array\\n',array_1)\n",
        "print(f'Type:                 {type(array_1)}')\n",
        "print(f'Elements:             {array_1.size}')\n",
        "print(f'Elements type:        {array_1.dtype}')\n",
        "print(f'Dtype name (str):     {array_1.dtype.name}')\n",
        "print(f'Axes:                 {array_1.ndim}')\n",
        "print(f'Rows X Coluns:        {array_1.shape}') # indicates the size of the array in each dimension.\n",
        "print(f'Item size:            {array_1.itemsize}')\n",
        "print(f'Data:                 {array_1.data}')"
      ],
      "execution_count": null,
      "outputs": []
    },
    {
      "cell_type": "markdown",
      "metadata": {
        "id": "KMU9Q6PP2Zbi"
      },
      "source": [
        "## Array Creation"
      ]
    },
    {
      "cell_type": "code",
      "metadata": {
        "id": "6OJBBcgQ0bXO"
      },
      "source": [
        "list_1 = [1,2,3,7,9,5]\n",
        "array_1 = np.array(list_1)\n",
        "print(f'List:           {list_1}')\n",
        "print(f'List to array:  {array_1}')\n",
        "\n",
        "print('\\nArray 2')\n",
        "array_2 = np.arange(15).reshape(3, 5) # 2D array\n",
        "print(array_2)\n",
        "\n",
        "print('\\nArray 3')\n",
        "array_3 = np.arange(24).reshape(2,3,4) # 3D array\n",
        "print(array_3)\n",
        "\n",
        "print('\\nArray 4')\n",
        "array_4 = np.array([(1,2,3), (4,5,6), (7,8,9)])\n",
        "print(array_4)\n",
        "\n",
        "print('\\nArray 5')\n",
        "array_5 = np.array( [ [1,2], [3,4] ], dtype=complex )\n",
        "print(array_5)\n",
        "\n"
      ],
      "execution_count": null,
      "outputs": []
    },
    {
      "cell_type": "markdown",
      "metadata": {
        "id": "_DfyOt5Q5R3F"
      },
      "source": [
        "\" *Often, the elements of an array are originally unknown, but its size is known. Hence, NumPy offers several functions to create arrays with initial placeholder content. These minimize the necessity of growing arrays, an expensive operation.* \"\n",
        "\n"
      ]
    },
    {
      "cell_type": "code",
      "metadata": {
        "id": "h5-x6Xzr5Ri3"
      },
      "source": [
        "print('\\nArray 6')\n",
        "array_6 = np.zeros((3, 4)) # By default, the dtype of the created array is float64.\n",
        "print(array_6)\n",
        "\n",
        "print('\\nArray 7')\n",
        "array_7 = np.ones( (2,3,4), dtype=np.int16 )\n",
        "print(array_7)\n",
        "\n",
        "print('\\nArray 8')\n",
        "array_8 = np.empty( (2,3) )\n",
        "print(array_8)"
      ],
      "execution_count": null,
      "outputs": []
    },
    {
      "cell_type": "markdown",
      "metadata": {
        "id": "Ec-WBbjr-CDP"
      },
      "source": [
        "Sequences of numbers:"
      ]
    },
    {
      "cell_type": "code",
      "metadata": {
        "id": "rDlah1vuBRZa"
      },
      "source": [
        "print('Array 9')\n",
        "array_9 = np.arange( 10, 30, 5 )\n",
        "print(array_9)\n",
        "\n",
        "print('\\nArray 10')\n",
        "array_10 = np.arange( 0, 2, 0.3 )  \n",
        "print(array_10)\n",
        "\n",
        "print('\\nArray 11')\n",
        "array_11 = np.linspace(0,2,9) # 9 numbers from 0 to 2\n",
        "print(array_11)"
      ],
      "execution_count": null,
      "outputs": []
    },
    {
      "cell_type": "markdown",
      "metadata": {
        "id": "9745F_aU5527"
      },
      "source": [
        "Load external data:"
      ]
    },
    {
      "cell_type": "code",
      "metadata": {
        "id": "TsAZeERH55eU"
      },
      "source": [
        "# 'cars-km.txt' must exist in directory\n",
        "\n",
        "km = np.loadtxt(fname = 'cars-km.txt', dtype =  int)\n",
        "km"
      ],
      "execution_count": null,
      "outputs": []
    },
    {
      "cell_type": "markdown",
      "metadata": {
        "id": "heQdX3v_5QtH"
      },
      "source": [
        "Performance List x ndarray:"
      ]
    },
    {
      "cell_type": "code",
      "metadata": {
        "id": "ov_Th9fI4j5l"
      },
      "source": [
        "np_array = np.arange(1000000)\n",
        "py_list = list(range(1000000))"
      ],
      "execution_count": 7,
      "outputs": []
    },
    {
      "cell_type": "code",
      "metadata": {
        "id": "-_eY4J3-5bhs"
      },
      "source": [
        "%time for _ in range(100): np_array *= 2"
      ],
      "execution_count": null,
      "outputs": []
    },
    {
      "cell_type": "code",
      "metadata": {
        "id": "P-SirFsn5dRb"
      },
      "source": [
        "%time for _ in range(100): py_list = [x * 2 for x in py_list]"
      ],
      "execution_count": null,
      "outputs": []
    },
    {
      "cell_type": "markdown",
      "metadata": {
        "id": "1BJSSNj3GYLT"
      },
      "source": [
        "## Basic Operations"
      ]
    },
    {
      "cell_type": "markdown",
      "metadata": {
        "id": "AEB1nvxAHK5w"
      },
      "source": [
        "*Arithmetic operators on arrays apply elementwise. A new array is created and filled with the result.*"
      ]
    },
    {
      "cell_type": "code",
      "metadata": {
        "id": "EkqWK29cGX1M"
      },
      "source": [
        "a = np.array( [20,30,40,50] )\n",
        "b = np.arange( 4 )\n",
        "print(f'matrix A\\n{a}')\n",
        "print(f'\\nmatrix B\\n{b}')\n",
        "print(f'\\n+\\n{a + b}')\n",
        "print(f'\\n-\\n{a - b}')\n",
        "print(f'\\n**\\n{a**b}')\n",
        "print(f'\\n10*np.sin(a)\\n{10*np.sin(a)}')\n",
        "print(f'\\na<35\\n{a<35}')"
      ],
      "execution_count": null,
      "outputs": []
    }
  ]
}