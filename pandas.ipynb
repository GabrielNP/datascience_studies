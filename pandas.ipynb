{
  "nbformat": 4,
  "nbformat_minor": 0,
  "metadata": {
    "colab": {
      "name": "pandas.ipynb",
      "provenance": [],
      "collapsed_sections": []
    },
    "kernelspec": {
      "name": "python3",
      "display_name": "Python 3"
    }
  },
  "cells": [
    {
      "cell_type": "code",
      "metadata": {
        "id": "plCRhzAG0iO4"
      },
      "source": [
        "import pandas as pd"
      ],
      "execution_count": 1,
      "outputs": []
    },
    {
      "cell_type": "markdown",
      "metadata": {
        "id": "ntzbV6FO1QJM"
      },
      "source": [
        "Load external data:"
      ]
    },
    {
      "cell_type": "code",
      "metadata": {
        "id": "w-GexWkl1SYT"
      },
      "source": [
        "dataset = pd.read_csv('db.csv', sep=';')\n",
        "dataset"
      ],
      "execution_count": null,
      "outputs": []
    },
    {
      "cell_type": "markdown",
      "metadata": {
        "id": "oJIWBKSX2BXO"
      },
      "source": [
        "Define max rows and columns to be shown on display:"
      ]
    },
    {
      "cell_type": "code",
      "metadata": {
        "id": "uADScZxU2HtM"
      },
      "source": [
        "pd.set_option('display.max_rows', 10)\n",
        "pd.set_option('display.max_columns', 10)"
      ],
      "execution_count": 20,
      "outputs": []
    },
    {
      "cell_type": "code",
      "metadata": {
        "id": "9fNcSdYJ2N20"
      },
      "source": [
        "dataset"
      ],
      "execution_count": null,
      "outputs": []
    },
    {
      "cell_type": "markdown",
      "metadata": {
        "id": "LK0gY41o2hcY"
      },
      "source": [
        "Check data type for each column:"
      ]
    },
    {
      "cell_type": "code",
      "metadata": {
        "id": "fxpdr3Gw2mmW"
      },
      "source": [
        "dataset.dtypes"
      ],
      "execution_count": null,
      "outputs": []
    },
    {
      "cell_type": "markdown",
      "metadata": {
        "id": "QNFLeLo224J5"
      },
      "source": [
        "Return specific columns from dataset:"
      ]
    },
    {
      "cell_type": "code",
      "metadata": {
        "id": "Q4x0-Qnn2tvY"
      },
      "source": [
        "dataset[['Quilometragem', 'Valor']]"
      ],
      "execution_count": null,
      "outputs": []
    },
    {
      "cell_type": "markdown",
      "metadata": {
        "id": "Vs-7oYS-31uq"
      },
      "source": [
        "Return statistical summary from dataframe:"
      ]
    },
    {
      "cell_type": "code",
      "metadata": {
        "id": "kQ49EoP73ZE1"
      },
      "source": [
        "dataset.describe()"
      ],
      "execution_count": null,
      "outputs": []
    },
    {
      "cell_type": "markdown",
      "metadata": {
        "id": "H8p47nop3PjX"
      },
      "source": [
        "Some info about dataset:"
      ]
    },
    {
      "cell_type": "code",
      "metadata": {
        "id": "Soe-bTqn3C0L"
      },
      "source": [
        "dataset.info()"
      ],
      "execution_count": null,
      "outputs": []
    }
  ]
}